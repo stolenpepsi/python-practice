{
 "cells": [
  {
   "cell_type": "markdown",
   "metadata": {},
   "source": [
    "### 집합자료형\n",
    "* 중복을 허용하지 않는다.\n",
    "* 순서가 없다."
   ]
  },
  {
   "cell_type": "code",
   "execution_count": 2,
   "metadata": {},
   "outputs": [
    {
     "name": "stdout",
     "output_type": "stream",
     "text": [
      "{1, 2, 3}\n",
      "<class 'set'>\n",
      "{'name': 'pey', 'age': 30}\n",
      "<class 'dict'>\n"
     ]
    }
   ],
   "source": [
    "s1 = set([1, 2, 3])\n",
    "dic = {\"name\":\"pey\", \"age\": 30}\n",
    "\n",
    "# 집중자료형\n",
    "print(s1)\n",
    "print(type(s1))\n",
    "\n",
    "# 딕셔너리\n",
    "print(dic)\n",
    "print(type(dic))"
   ]
  },
  {
   "cell_type": "code",
   "execution_count": 3,
   "metadata": {},
   "outputs": [
    {
     "name": "stdout",
     "output_type": "stream",
     "text": [
      "{'l', 'e', 'h', 'o'}\n",
      "<class 'set'>\n"
     ]
    }
   ],
   "source": [
    "s2 = set(\"hello\")\n",
    "print(s2)\n",
    "print(type(s2))"
   ]
  },
  {
   "cell_type": "code",
   "execution_count": 7,
   "metadata": {},
   "outputs": [
    {
     "name": "stdout",
     "output_type": "stream",
     "text": [
      "{1, 2, 3}\n",
      "<class 'set'>\n"
     ]
    },
    {
     "ename": "TypeError",
     "evalue": "'set' object is not subscriptable",
     "output_type": "error",
     "traceback": [
      "\u001b[1;31m---------------------------------------------------------------------------\u001b[0m",
      "\u001b[1;31mTypeError\u001b[0m                                 Traceback (most recent call last)",
      "Cell \u001b[1;32mIn[7], line 5\u001b[0m\n\u001b[0;32m      3\u001b[0m \u001b[38;5;28mprint\u001b[39m(s1)\n\u001b[0;32m      4\u001b[0m \u001b[38;5;28mprint\u001b[39m(\u001b[38;5;28mtype\u001b[39m(s1))\n\u001b[1;32m----> 5\u001b[0m \u001b[38;5;28mprint\u001b[39m(\u001b[43ms1\u001b[49m\u001b[43m[\u001b[49m\u001b[38;5;241;43m0\u001b[39;49m\u001b[43m]\u001b[49m)\n\u001b[0;32m      7\u001b[0m \u001b[38;5;66;03m# 리스트함수를 통해 자료형 변환\u001b[39;00m\n\u001b[0;32m      8\u001b[0m l1 \u001b[38;5;241m=\u001b[39m \u001b[38;5;28mlist\u001b[39m(s1)\n",
      "\u001b[1;31mTypeError\u001b[0m: 'set' object is not subscriptable"
     ]
    }
   ],
   "source": [
    "# 집합자료형\n",
    "s1 = set({1, 2, 3})\n",
    "print(s1)\n",
    "print(type(s1))\n",
    "print(s1[0])\n",
    "\n",
    "# 리스트함수를 통해 자료형 변환\n",
    "l1 = list(s1)\n",
    "print(l1)\n",
    "print(type(l1))\n",
    "print(l1[1])\n",
    "\n",
    "# 튜플함수를 이용해 자료형 변환\n",
    "t1 = tuple(s1)\n",
    "print(t1)\n",
    "print(type(t1))"
   ]
  },
  {
   "cell_type": "markdown",
   "metadata": {},
   "source": [
    "### 교집합, 합집합, 차집합 구하기"
   ]
  },
  {
   "cell_type": "markdown",
   "metadata": {},
   "source": [
    "* &, |, -"
   ]
  },
  {
   "cell_type": "code",
   "execution_count": 9,
   "metadata": {},
   "outputs": [
    {
     "name": "stdout",
     "output_type": "stream",
     "text": [
      "{1, 2, 3, 4, 5, 6}\n",
      "<class 'set'>\n",
      "{'name': 'pey', 'age': 30}\n",
      "<class 'dict'>\n"
     ]
    }
   ],
   "source": [
    "# s1 = set([1, 2, 3, 4, 5, 6])\n",
    "\n",
    "test = {1, 2, 3, 4, 5, 6}\n",
    "print(test)\n",
    "print(type(test))\n",
    "\n",
    "test2 = {\"name\": \"pey\", \"age\": 30}\n",
    "print(test2)\n",
    "print(type(test2))"
   ]
  },
  {
   "cell_type": "code",
   "execution_count": 11,
   "metadata": {},
   "outputs": [
    {
     "name": "stdout",
     "output_type": "stream",
     "text": [
      "{4, 5, 6}\n",
      "[4, 5, 6]\n",
      "{4, 5, 6}\n"
     ]
    }
   ],
   "source": [
    "s1 = set([1, 2, 3, 4, 5, 6])\n",
    "s2 = set([4, 5, 6, 7, 8, 9])\n",
    "result = s1 & s2\n",
    "\n",
    "# 교집합\n",
    "print(result)\n",
    "print(list(result))\n",
    "\n",
    "# 교집합 - intersection()\n",
    "result = s1.intersection(s2)\n",
    "print(result)"
   ]
  },
  {
   "cell_type": "code",
   "execution_count": 14,
   "metadata": {},
   "outputs": [
    {
     "name": "stdout",
     "output_type": "stream",
     "text": [
      "{1, 2, 3, 4, 5, 6, 7, 8, 9}\n",
      "<class 'set'>\n",
      "union() 함수를 이용한 결과:  {1, 2, 3, 4, 5, 6, 7, 8, 9}\n"
     ]
    }
   ],
   "source": [
    "# 합집합(|)\n",
    "s1 = set([1, 2, 3, 4, 5, 6])\n",
    "s2 = set([4, 5, 6, 7, 8, 9])\n",
    "\n",
    "result = s1 | s2\n",
    "print(result)\n",
    "print(type(result))\n",
    "\n",
    "# 합집합 - union\n",
    "result = s1.union(s2)\n",
    "print(\"union() 함수를 이용한 결과: \", result)"
   ]
  },
  {
   "cell_type": "code",
   "execution_count": 17,
   "metadata": {},
   "outputs": [
    {
     "name": "stdout",
     "output_type": "stream",
     "text": [
      "{1, 2, 3}\n",
      "{8, 9, 7}\n",
      "{1, 2, 3}\n",
      "{8, 9, 7}\n"
     ]
    }
   ],
   "source": [
    "s1 = set([1, 2, 3, 4, 5, 6])\n",
    "s2 = set([4, 5, 6, 7, 8, 9])\n",
    "\n",
    "# 차집합 ( - )\n",
    "result = s1 - s2\n",
    "print(result)\n",
    "\n",
    "result2 = s2 -s1\n",
    "print(result2)\n",
    "\n",
    "# 차집합 - difference()\n",
    "result1 = s1.difference(s2)\n",
    "print(result1)\n",
    "\n",
    "result2 = s2.difference(s1)\n",
    "print(result2)"
   ]
  },
  {
   "cell_type": "markdown",
   "metadata": {},
   "source": [
    "### 집합자료형 관련함수"
   ]
  },
  {
   "cell_type": "code",
   "execution_count": 19,
   "metadata": {},
   "outputs": [
    {
     "name": "stdout",
     "output_type": "stream",
     "text": [
      "{1, 2, 3, 4}\n"
     ]
    }
   ],
   "source": [
    "# 값 1개 추가하기 - add\n",
    "\n",
    "s1 = set([1, 2, 3])\n",
    "s1.add(4)\n",
    "print(s1)\n",
    "\n",
    "# 요소 한개만 추가가 가능\n",
    "# s1.add([2, 3])\n",
    "# print(s1)\n",
    "# Error"
   ]
  },
  {
   "cell_type": "code",
   "execution_count": 21,
   "metadata": {},
   "outputs": [
    {
     "name": "stdout",
     "output_type": "stream",
     "text": [
      "{1, 2, 3, 4, 5, 6}\n"
     ]
    },
    {
     "ename": "TypeError",
     "evalue": "'int' object is not iterable",
     "output_type": "error",
     "traceback": [
      "\u001b[1;31m---------------------------------------------------------------------------\u001b[0m",
      "\u001b[1;31mTypeError\u001b[0m                                 Traceback (most recent call last)",
      "Cell \u001b[1;32mIn[21], line 12\u001b[0m\n\u001b[0;32m      5\u001b[0m \u001b[38;5;28mprint\u001b[39m(s1)\n\u001b[0;32m      7\u001b[0m \u001b[38;5;66;03m# 하나의 요소로는 업데이트의 인수로 받을 수 없음\u001b[39;00m\n\u001b[0;32m      8\u001b[0m \u001b[38;5;66;03m# s1.update(7)\u001b[39;00m\n\u001b[0;32m      9\u001b[0m \u001b[38;5;66;03m# print(s1)\u001b[39;00m\n\u001b[0;32m     10\u001b[0m \n\u001b[0;32m     11\u001b[0m \u001b[38;5;66;03m# 하나의 리스트 요소로는 업데이트의 인수로 사용이 가능\u001b[39;00m\n\u001b[1;32m---> 12\u001b[0m \u001b[43ms1\u001b[49m\u001b[38;5;241;43m.\u001b[39;49m\u001b[43mupdate\u001b[49m\u001b[43m(\u001b[49m\u001b[38;5;241;43m7\u001b[39;49m\u001b[43m)\u001b[49m\n\u001b[0;32m     13\u001b[0m \u001b[38;5;28mprint\u001b[39m(s1)\n",
      "\u001b[1;31mTypeError\u001b[0m: 'int' object is not iterable"
     ]
    }
   ],
   "source": [
    "# 값 여러 개 추가하기 - update()\n",
    "#  s1 = {1, 2, 3}\n",
    "s1 = set([1, 2, 3])\n",
    "s1.update([4, 5, 6])\n",
    "print(s1)\n",
    "\n",
    "# 하나의 요소로는 업데이트의 인수로 받을 수 없음\n",
    "# s1.update(7)\n",
    "# print(s1)\n",
    "\n",
    "# 하나의 리스트 요소로는 업데이트의 인수로 사용이 가능\n",
    "s1.update(7)\n",
    "print(s1)"
   ]
  },
  {
   "cell_type": "code",
   "execution_count": 22,
   "metadata": {},
   "outputs": [
    {
     "name": "stdout",
     "output_type": "stream",
     "text": [
      "{1, 3}\n"
     ]
    }
   ],
   "source": [
    "# 특정 값 제거하기 - remove()\n",
    "# s1 = {1, 2, 3}\n",
    "s1 = set([1, 2, 3])\n",
    "s1.remove(2)\n",
    "print(s1)"
   ]
  },
  {
   "cell_type": "code",
   "execution_count": 28,
   "metadata": {},
   "outputs": [
    {
     "name": "stdout",
     "output_type": "stream",
     "text": [
      "['외국계', '쇼핑몰의', '공습으로', '국내', '기업의', '어려움이', '가중되고', '있습니다']\n",
      "['여름이면', '시원한', '미숫가루', '생각이', '납니다']\n",
      "['여름이면', '가중되고', '외국계', '있습니다', '미숫가루', '쇼핑몰의', '공습으로', '기업의', '생각이', '어려움이', '국내', '납니다', '시원한']\n"
     ]
    }
   ],
   "source": [
    "script1 = \"외국계 쇼핑몰의 공습으로 국내 기업의 어려움이 가중되고 있습니다\"\n",
    "script2 = \"여름이면 시원한 미숫가루 생각이 납니다\"\n",
    "s1 = script1.split()\n",
    "s2 = script2.split()\n",
    "print(s1)\n",
    "print(s2)\n",
    "\n",
    "s1 = set(s1)\n",
    "s2 = set(s2)\n",
    "\n",
    "result = s1.union(s2)\n",
    "result = list(result)\n",
    "print(result)"
   ]
  },
  {
   "cell_type": "code",
   "execution_count": null,
   "metadata": {},
   "outputs": [],
   "source": []
  }
 ],
 "metadata": {
  "kernelspec": {
   "display_name": "Python 3",
   "language": "python",
   "name": "python3"
  },
  "language_info": {
   "codemirror_mode": {
    "name": "ipython",
    "version": 3
   },
   "file_extension": ".py",
   "mimetype": "text/x-python",
   "name": "python",
   "nbconvert_exporter": "python",
   "pygments_lexer": "ipython3",
   "version": "3.12.5"
  }
 },
 "nbformat": 4,
 "nbformat_minor": 2
}
