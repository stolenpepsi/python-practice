{
 "cells": [
  {
   "cell_type": "markdown",
   "metadata": {},
   "source": [
    "퀴즈 1: 덧셈 함수 만들기\n",
    "문제: 두 개의 숫자를 입력받아 그 합을 반환하는 함수를 작성하세요.\n",
    "* 함수이름은 add_number"
   ]
  },
  {
   "cell_type": "code",
   "execution_count": 10,
   "metadata": {},
   "outputs": [
    {
     "name": "stdout",
     "output_type": "stream",
     "text": [
      "7\n",
      "30\n"
     ]
    }
   ],
   "source": [
    "def add(a, b):\n",
    "    result = a + b\n",
    "    return result\n",
    "\n",
    "a = add(3, 4)\n",
    "print(a)\n",
    "\n",
    "\n",
    "def add_number(a, b):\n",
    "    return a + b\n",
    "result = add_number(10, 20)\n",
    "print(result)"
   ]
  },
  {
   "cell_type": "markdown",
   "metadata": {},
   "source": [
    "퀴즈 2: 짝수 확인 함수 만들기\n",
    "문제: 주어진 숫자가 짝수인지 홀수인지 판별하는 함수를 작성하세요.\n",
    "\n"
   ]
  },
  {
   "cell_type": "code",
   "execution_count": 11,
   "metadata": {},
   "outputs": [
    {
     "name": "stdout",
     "output_type": "stream",
     "text": [
      "홀수\n"
     ]
    }
   ],
   "source": [
    "# num1 = input(\"숫자를 입력해주세요\")\n",
    "\n",
    "# if num1 % 2 == 0:\n",
    "#     print(\"짝수입니다.\")\n",
    "# else:\n",
    "#     print(\"홀수입니다.\")\n",
    "\n",
    "num = int(input(\"숫자를 입력하세요: \"))\n",
    "if num % 2 == 0:\n",
    "    print(\"짝수\")\n",
    "else:\n",
    "    print(\"홀수\")\n",
    "\n",
    "\n",
    "def is_even(num3):\n",
    "    if num % 2 == 0:\n",
    "        return \"짝수\"\n",
    "    else:\n",
    "        return \"홀수\""
   ]
  },
  {
   "cell_type": "markdown",
   "metadata": {},
   "source": [
    "퀴즈 3: 리스트에서 최대값 찾기\n",
    "문제: 주어진 리스트에서 최대값을 찾는 함수를 작성하세요.\n",
    "* max() 함수를 사용하지 않고 직접 구현해보세요.\n"
   ]
  },
  {
   "cell_type": "code",
   "execution_count": 15,
   "metadata": {},
   "outputs": [
    {
     "name": "stdout",
     "output_type": "stream",
     "text": [
      "1\n"
     ]
    }
   ],
   "source": [
    "# list = [1, 2, 3, 4, 5]\n",
    "\n",
    "# max(list)\n",
    "\n",
    "\n",
    "def search_max(list_num):\n",
    "    max_value = list_num[0]\n",
    "\n",
    "    for num in list_num:\n",
    "        if num > max_value:\n",
    "            max_valure = num\n",
    "        return max_value\n",
    "    \n",
    "result = search_max([1, 2, 3, 4, 5, 6, 7])\n",
    "print(result)"
   ]
  },
  {
   "cell_type": "markdown",
   "metadata": {},
   "source": [
    "퀴즈 4: 구구단 출력하기\n",
    "문제: 주어진 숫자에 대해 구구단을 출력하는 함수를 작성하세요."
   ]
  },
  {
   "cell_type": "code",
   "execution_count": 7,
   "metadata": {},
   "outputs": [
    {
     "name": "stdout",
     "output_type": "stream",
     "text": [
      "5\n",
      "10\n",
      "15\n",
      "20\n",
      "25\n",
      "30\n",
      "35\n",
      "40\n",
      "45\n",
      "50\n",
      "구구단 끝\n"
     ]
    }
   ],
   "source": [
    "num1 = int(input(\"숫자를 입력하세요\"))\n",
    "\n",
    "times = 0\n",
    "while times < 10:\n",
    "    times = times + 1\n",
    "    print(times * num1)\n",
    "\n",
    "    if times == 10:\n",
    "        print(\"구구단 끝\")\n",
    "# tree_hit = 9\n",
    "# while tree_hit < 10:\n",
    "#     tree_hit = tree_hit + 1\n",
    "#     print(f\"나무를 {tree_hit}번 찍었습니다.\")\n",
    "\n",
    "#     if tree_hit == 10:\n",
    "#         print(\"나무가 넘어갑니다.\")"
   ]
  },
  {
   "cell_type": "markdown",
   "metadata": {},
   "source": [
    "퀴즈 5. 날짜 2024-08-21 10:00 를 24년 8월 21일로 바꾸는 함수를 만들어 주세요 "
   ]
  },
  {
   "cell_type": "code",
   "execution_count": 18,
   "metadata": {},
   "outputs": [
    {
     "name": "stdout",
     "output_type": "stream",
     "text": [
      "1\n"
     ]
    }
   ],
   "source": [
    "a = \"2024-08-21 10:00\"\n",
    "a = a.split(\"-\")\n",
    "print(a[0][2:4])\n",
    "print(a[1])\n",
    "print(a[2][0:2])\n",
    "\n",
    "\n",
    "def date_format(input_date):\n",
    "    input_date = input_date.split(\"-\")\n",
    "    year = input_date"
   ]
  },
  {
   "cell_type": "markdown",
   "metadata": {},
   "source": [
    "퀴즈 6: 특정 단어 세기\n",
    "문제: 주어진 문장에서 특정 단어가 몇 번 나타나는지 세는 함수를 작성하세요.\n",
    "* 함수이름은 count_word\n",
    "* 함수는 두 개의 매개변수 sentence와 word를 받아야 합니다.\n",
    "\n"
   ]
  },
  {
   "cell_type": "code",
   "execution_count": 22,
   "metadata": {},
   "outputs": [
    {
     "name": "stdout",
     "output_type": "stream",
     "text": [
      "0\n",
      "None\n"
     ]
    }
   ],
   "source": [
    "word = [\"수수밭에 수수가 우수수 자라있다.\"]\n",
    "\n",
    "def count_word(sentence, word):\n",
    "    return \n",
    "\n",
    "print(word.count(\"수수\"))\n",
    "# print(script.count(\"올림픽\"))\n",
    "\n",
    "\n",
    "\n",
    "\n",
    "def count_word(sentence, word):\n",
    "    num = sentence.count(word)    \n",
    "sentence = \"업계에선 이를 '주행거리 연장형 전기차(EVE)'라 부른다. 현대차 그룹은 해당 기술을 미리 전적으로 기용하였다.\"\n",
    "word = \"전기차\"\n",
    "result = count_word(sentence, word)\n",
    "print(result)"
   ]
  },
  {
   "cell_type": "markdown",
   "metadata": {},
   "source": []
  }
 ],
 "metadata": {
  "kernelspec": {
   "display_name": "Python 3",
   "language": "python",
   "name": "python3"
  },
  "language_info": {
   "codemirror_mode": {
    "name": "ipython",
    "version": 3
   },
   "file_extension": ".py",
   "mimetype": "text/x-python",
   "name": "python",
   "nbconvert_exporter": "python",
   "pygments_lexer": "ipython3",
   "version": "3.12.5"
  }
 },
 "nbformat": 4,
 "nbformat_minor": 2
}
