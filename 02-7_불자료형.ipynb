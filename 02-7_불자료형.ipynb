{
 "cells": [
  {
   "cell_type": "markdown",
   "metadata": {},
   "source": [
    "### 불 자료형은 어떻게 사용할까?\n",
    "* True:참\n",
    "* False:거짓"
   ]
  },
  {
   "cell_type": "code",
   "execution_count": 5,
   "metadata": {},
   "outputs": [
    {
     "name": "stdout",
     "output_type": "stream",
     "text": [
      "True\n",
      "False\n",
      "False\n",
      "True\n"
     ]
    }
   ],
   "source": [
    "# 같다 (==)\n",
    "# (=) 대입하다. 정의하다. 변수를 선언하다.\n",
    "# (!=) 같지 않다.\n",
    "print(1 == 1)\n",
    "print(1 == 2)\n",
    "\n",
    "print(1 != 1)\n",
    "print(1 != 2)\n",
    "\n"
   ]
  },
  {
   "cell_type": "code",
   "execution_count": 8,
   "metadata": {},
   "outputs": [
    {
     "name": "stdout",
     "output_type": "stream",
     "text": [
      "True\n",
      "True\n",
      "False\n"
     ]
    }
   ],
   "source": [
    "print(2 > 1)\n",
    "print(2 >= 1)\n",
    "# 잘못된 표현 방법\n",
    "# print(2 => 1)\n",
    "\n",
    "print(2 < 1)"
   ]
  },
  {
   "cell_type": "code",
   "execution_count": 18,
   "metadata": {},
   "outputs": [
    {
     "name": "stdout",
     "output_type": "stream",
     "text": [
      "False\n",
      "True\n",
      "32\n",
      "False\n",
      "False\n",
      "False\n",
      "True\n",
      "False\n",
      "True\n"
     ]
    }
   ],
   "source": [
    "# 자료형의 참과 거짓\n",
    "print(bool(\"\"))\n",
    "print(bool(\" \"))\n",
    "print(ord(\" \"))\n",
    "print(bool([]))\n",
    "print(bool({}))\n",
    "print(bool(0))\n",
    "print(bool(-1))\n",
    "print(bool(None))\n",
    "print(bool(1))\n",
    "# 문자열 \"\" 사이에 있는 공백(스페이스바)또한 문자로 인식한다."
   ]
  },
  {
   "cell_type": "code",
   "execution_count": 14,
   "metadata": {},
   "outputs": [
    {
     "name": "stdout",
     "output_type": "stream",
     "text": [
      "4\n",
      "3\n",
      "2\n",
      "1\n"
     ]
    }
   ],
   "source": [
    "a = [1, 2, 3, 4]\n",
    "while a:\n",
    "    print(a.pop())"
   ]
  },
  {
   "cell_type": "code",
   "execution_count": 6,
   "metadata": {},
   "outputs": [
    {
     "name": "stdout",
     "output_type": "stream",
     "text": [
      "참\n",
      "거짓\n",
      "거짓\n",
      "거짓\n",
      "거짓\n",
      "참\n"
     ]
    }
   ],
   "source": [
    "# 파워BI에서 if(논리식, true일때 실행, false일대 실행)\n",
    "\n",
    "if [1, 2, 3]:\n",
    "    print(\"참\")\n",
    "else:\n",
    "    print(\"거짓\")\n",
    "\n",
    "\n",
    "\n",
    "\n",
    "if []:\n",
    "    print(\"참\")\n",
    "else:\n",
    "    print(\"거짓\")\n",
    "\n",
    "\n",
    "\n",
    "if ():\n",
    "    print(\"참\")\n",
    "else:\n",
    "    print(\"거짓\")\n",
    "\n",
    "\n",
    "\n",
    "if {}:\n",
    "    print(\"참\")\n",
    "else:\n",
    "    print(\"거짓\")\n",
    "\n",
    "\n",
    "if 0:\n",
    "    print(\"참\")\n",
    "else:\n",
    "    print(\"거짓\")\n",
    "\n",
    "\n",
    "if 1:\n",
    "    print(\"참\")\n",
    "else:\n",
    "    print(\"거짓\")"
   ]
  },
  {
   "cell_type": "code",
   "execution_count": 10,
   "metadata": {},
   "outputs": [
    {
     "name": "stdout",
     "output_type": "stream",
     "text": [
      "참\n"
     ]
    }
   ],
   "source": [
    "if [1, 2, 3]:\n",
    "    print(\"참\")\n",
    "else:\n",
    "    print(\"거짓\")"
   ]
  },
  {
   "cell_type": "code",
   "execution_count": 12,
   "metadata": {},
   "outputs": [
    {
     "name": "stdout",
     "output_type": "stream",
     "text": [
      "True\n",
      "False\n",
      "False\n",
      "True\n",
      "False\n",
      "False\n",
      "True\n"
     ]
    }
   ],
   "source": [
    "# 불연산\n",
    "print(bool(\"pyton\"))\n",
    "print(bool(\"\"\"\"\"\"))\n",
    "print(bool(\"\"))\n",
    "print(bool([1, 2, 3]))\n",
    "print(bool([]))\n",
    "print(bool(0))\n",
    "print(bool(3))"
   ]
  },
  {
   "cell_type": "code",
   "execution_count": null,
   "metadata": {},
   "outputs": [],
   "source": []
  }
 ],
 "metadata": {
  "kernelspec": {
   "display_name": "Python 3",
   "language": "python",
   "name": "python3"
  },
  "language_info": {
   "codemirror_mode": {
    "name": "ipython",
    "version": 3
   },
   "file_extension": ".py",
   "mimetype": "text/x-python",
   "name": "python",
   "nbconvert_exporter": "python",
   "pygments_lexer": "ipython3",
   "version": "3.12.5"
  }
 },
 "nbformat": 4,
 "nbformat_minor": 2
}
