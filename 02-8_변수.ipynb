{
 "cells": [
  {
   "cell_type": "markdown",
   "metadata": {},
   "source": [
    "### 변수는 어떻게 만들까?\n",
    "* 변수_이름 = 변수에_저장할_것"
   ]
  },
  {
   "cell_type": "code",
   "execution_count": 5,
   "metadata": {},
   "outputs": [
    {
     "ename": "TypeError",
     "evalue": "'int' object is not callable",
     "output_type": "error",
     "traceback": [
      "\u001b[1;31m---------------------------------------------------------------------------\u001b[0m",
      "\u001b[1;31mTypeError\u001b[0m                                 Traceback (most recent call last)",
      "Cell \u001b[1;32mIn[5], line 17\u001b[0m\n\u001b[0;32m     12\u001b[0m TempNum \u001b[38;5;241m=\u001b[39m \u001b[38;5;241m1\u001b[39m\n\u001b[0;32m     13\u001b[0m \u001b[38;5;66;03m# temp-num = 1   :변수에서 ( - )는 빼기(부호)로 인식\u001b[39;00m\n\u001b[0;32m     14\u001b[0m \n\u001b[0;32m     15\u001b[0m \u001b[38;5;66;03m# 1tempNum = 1   :숫자로 시작하는 변수는 사용할 수 없음.\u001b[39;00m\n\u001b[1;32m---> 17\u001b[0m \u001b[38;5;28;43mlen\u001b[39;49m\u001b[43m(\u001b[49m\u001b[38;5;124;43m\"\u001b[39;49m\u001b[38;5;124;43mhello\u001b[39;49m\u001b[38;5;124;43m\"\u001b[39;49m\u001b[43m)\u001b[49m\n\u001b[0;32m     18\u001b[0m \u001b[38;5;66;03m# 이건 왜 작동되고 있는 걸까?\u001b[39;00m\n",
      "\u001b[1;31mTypeError\u001b[0m: 'int' object is not callable"
     ]
    }
   ],
   "source": [
    "a = 1\n",
    "# C나 JAVA에서는 자료형의 타입을 선언\n",
    "# int a = 1\n",
    "\n",
    "# 파이썬은 자료형 타입을 선언하지 않는다\n",
    "a = 1\n",
    "b = \"pyton\"\n",
    "c = [1, 2, 3]\n",
    "\n",
    "temp_num = 1\n",
    "# temp bum = 1   :공백은 있으면 안됌\n",
    "TempNum = 1\n",
    "# temp-num = 1   :변수에서 ( - )는 빼기(부호)로 인식\n",
    "\n",
    "# 1tempNum = 1   :숫자로 시작하는 변수는 사용할 수 없음.\n",
    "\n",
    "len(\"hello\")\n",
    "# 이건 왜 작동되고 있는 걸까?\n",
    "\n"
   ]
  },
  {
   "cell_type": "code",
   "execution_count": null,
   "metadata": {},
   "outputs": [],
   "source": []
  }
 ],
 "metadata": {
  "kernelspec": {
   "display_name": "Python 3",
   "language": "python",
   "name": "python3"
  },
  "language_info": {
   "codemirror_mode": {
    "name": "ipython",
    "version": 3
   },
   "file_extension": ".py",
   "mimetype": "text/x-python",
   "name": "python",
   "nbconvert_exporter": "python",
   "pygments_lexer": "ipython3",
   "version": "3.12.5"
  }
 },
 "nbformat": 4,
 "nbformat_minor": 2
}
