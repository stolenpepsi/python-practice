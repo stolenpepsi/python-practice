{
 "cells": [
  {
   "cell_type": "markdown",
   "metadata": {},
   "source": [
    "### 변수는 어떻게 만들까?\n",
    "* 변수_이름 = 변수에_저장할_것"
   ]
  },
  {
   "cell_type": "code",
   "execution_count": 1,
   "metadata": {},
   "outputs": [
    {
     "data": {
      "text/plain": [
       "5"
      ]
     },
     "execution_count": 1,
     "metadata": {},
     "output_type": "execute_result"
    }
   ],
   "source": [
    "a = 1\n",
    "# C나 JAVA에서는 자료형의 타입을 선언\n",
    "# int a = 1\n",
    "\n",
    "# 파이썬은 자료형 타입을 선언하지 않는다\n",
    "a = 1\n",
    "b = \"pyton\"\n",
    "c = [1, 2, 3]\n",
    "\n",
    "temp_num = 1\n",
    "# temp bum = 1   :공백은 있으면 안됌\n",
    "TempNum = 1\n",
    "# temp-num = 1   :변수에서 ( - )는 빼기(부호)로 인식\n",
    "\n",
    "# 1tempNum = 1   :숫자로 시작하는 변수는 사용할 수 없음.\n",
    "\n",
    "len(\"hello\")\n",
    "# 이건 왜 작동되고 있는 걸까?\n",
    "\n"
   ]
  },
  {
   "cell_type": "code",
   "execution_count": null,
   "metadata": {},
   "outputs": [],
   "source": []
  }
 ],
 "metadata": {
  "kernelspec": {
   "display_name": "Python 3",
   "language": "python",
   "name": "python3"
  },
  "language_info": {
   "codemirror_mode": {
    "name": "ipython",
    "version": 3
   },
   "file_extension": ".py",
   "mimetype": "text/x-python",
   "name": "python",
   "nbconvert_exporter": "python",
   "pygments_lexer": "ipython3",
   "version": "3.12.5"
  }
 },
 "nbformat": 4,
 "nbformat_minor": 2
}
